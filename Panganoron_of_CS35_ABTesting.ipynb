{
  "nbformat": 4,
  "nbformat_minor": 0,
  "metadata": {
    "colab": {
      "provenance": [],
      "include_colab_link": true
    },
    "kernelspec": {
      "name": "python3",
      "display_name": "Python 3"
    },
    "language_info": {
      "name": "python"
    }
  },
  "cells": [
    {
      "cell_type": "markdown",
      "metadata": {
        "id": "view-in-github",
        "colab_type": "text"
      },
      "source": [
        "<a href=\"https://colab.research.google.com/github/gelcloudy/CompSci35_Data-Mining/blob/main/Panganoron_of_CS35_ABTesting.ipynb\" target=\"_parent\"><img src=\"https://colab.research.google.com/assets/colab-badge.svg\" alt=\"Open In Colab\"/></a>"
      ]
    },
    {
      "cell_type": "markdown",
      "source": [
        "This marketing campaign dataset contains various attributes for each store involved in the promotional efforts. Three distinct promotional campaigns were tested, and this **A/B Testing** will assess whether there are significant differences in sales based on the promotional campaign employed.\n",
        "\n",
        "* **MarketID**: unique identifier for market\n",
        "* **MarketSize**: size of market area by sales\n",
        "* **LocationID**: unique identifier for store location\n",
        "* **AgeOfStore**: age of store in years\n",
        "* **Promotion**: one of three promotions that were tested\n",
        "* **Week**: one of four weeks when the promotions were run\n",
        "* **SalesInThousands**: sales amount for a specific LocationID, Promotion, and week\n",
        "\n",
        "Through this analysis, we aim to determine if the type of promotion has a statistically significant impact on sales performance across different stores."
      ],
      "metadata": {
        "id": "Fchd7ACkBDB-"
      }
    },
    {
      "cell_type": "code",
      "source": [
        "import pandas as pd\n",
        "\n",
        "fast_food = pd.read_csv(\"fastfood_promotions.csv\")\n",
        "\n",
        "fast_food.head()\n",
        "fast_food.describe()\n"
      ],
      "metadata": {
        "id": "vacJ-rLobDwg",
        "colab": {
          "base_uri": "https://localhost:8080/",
          "height": 300
        },
        "outputId": "d193f9d5-8560-4993-ca15-90791a8e96b4"
      },
      "execution_count": null,
      "outputs": [
        {
          "output_type": "execute_result",
          "data": {
            "text/plain": [
              "         MarketID  LocationID  AgeOfStore   Promotion        week  \\\n",
              "count  548.000000  548.000000  548.000000  548.000000  548.000000   \n",
              "mean     5.715328  479.656934    8.503650    2.029197    2.500000   \n",
              "std      2.877001  287.973679    6.638345    0.810729    1.119055   \n",
              "min      1.000000    1.000000    1.000000    1.000000    1.000000   \n",
              "25%      3.000000  216.000000    4.000000    1.000000    1.750000   \n",
              "50%      6.000000  504.000000    7.000000    2.000000    2.500000   \n",
              "75%      8.000000  708.000000   12.000000    3.000000    3.250000   \n",
              "max     10.000000  920.000000   28.000000    3.000000    4.000000   \n",
              "\n",
              "       SalesInThousands  \n",
              "count        548.000000  \n",
              "mean          53.466204  \n",
              "std           16.755216  \n",
              "min           17.340000  \n",
              "25%           42.545000  \n",
              "50%           50.200000  \n",
              "75%           60.477500  \n",
              "max           99.650000  "
            ],
            "text/html": [
              "\n",
              "  <div id=\"df-03e5a5a2-fb0b-4b9a-8e8e-2e04aa87f403\" class=\"colab-df-container\">\n",
              "    <div>\n",
              "<style scoped>\n",
              "    .dataframe tbody tr th:only-of-type {\n",
              "        vertical-align: middle;\n",
              "    }\n",
              "\n",
              "    .dataframe tbody tr th {\n",
              "        vertical-align: top;\n",
              "    }\n",
              "\n",
              "    .dataframe thead th {\n",
              "        text-align: right;\n",
              "    }\n",
              "</style>\n",
              "<table border=\"1\" class=\"dataframe\">\n",
              "  <thead>\n",
              "    <tr style=\"text-align: right;\">\n",
              "      <th></th>\n",
              "      <th>MarketID</th>\n",
              "      <th>LocationID</th>\n",
              "      <th>AgeOfStore</th>\n",
              "      <th>Promotion</th>\n",
              "      <th>week</th>\n",
              "      <th>SalesInThousands</th>\n",
              "    </tr>\n",
              "  </thead>\n",
              "  <tbody>\n",
              "    <tr>\n",
              "      <th>count</th>\n",
              "      <td>548.000000</td>\n",
              "      <td>548.000000</td>\n",
              "      <td>548.000000</td>\n",
              "      <td>548.000000</td>\n",
              "      <td>548.000000</td>\n",
              "      <td>548.000000</td>\n",
              "    </tr>\n",
              "    <tr>\n",
              "      <th>mean</th>\n",
              "      <td>5.715328</td>\n",
              "      <td>479.656934</td>\n",
              "      <td>8.503650</td>\n",
              "      <td>2.029197</td>\n",
              "      <td>2.500000</td>\n",
              "      <td>53.466204</td>\n",
              "    </tr>\n",
              "    <tr>\n",
              "      <th>std</th>\n",
              "      <td>2.877001</td>\n",
              "      <td>287.973679</td>\n",
              "      <td>6.638345</td>\n",
              "      <td>0.810729</td>\n",
              "      <td>1.119055</td>\n",
              "      <td>16.755216</td>\n",
              "    </tr>\n",
              "    <tr>\n",
              "      <th>min</th>\n",
              "      <td>1.000000</td>\n",
              "      <td>1.000000</td>\n",
              "      <td>1.000000</td>\n",
              "      <td>1.000000</td>\n",
              "      <td>1.000000</td>\n",
              "      <td>17.340000</td>\n",
              "    </tr>\n",
              "    <tr>\n",
              "      <th>25%</th>\n",
              "      <td>3.000000</td>\n",
              "      <td>216.000000</td>\n",
              "      <td>4.000000</td>\n",
              "      <td>1.000000</td>\n",
              "      <td>1.750000</td>\n",
              "      <td>42.545000</td>\n",
              "    </tr>\n",
              "    <tr>\n",
              "      <th>50%</th>\n",
              "      <td>6.000000</td>\n",
              "      <td>504.000000</td>\n",
              "      <td>7.000000</td>\n",
              "      <td>2.000000</td>\n",
              "      <td>2.500000</td>\n",
              "      <td>50.200000</td>\n",
              "    </tr>\n",
              "    <tr>\n",
              "      <th>75%</th>\n",
              "      <td>8.000000</td>\n",
              "      <td>708.000000</td>\n",
              "      <td>12.000000</td>\n",
              "      <td>3.000000</td>\n",
              "      <td>3.250000</td>\n",
              "      <td>60.477500</td>\n",
              "    </tr>\n",
              "    <tr>\n",
              "      <th>max</th>\n",
              "      <td>10.000000</td>\n",
              "      <td>920.000000</td>\n",
              "      <td>28.000000</td>\n",
              "      <td>3.000000</td>\n",
              "      <td>4.000000</td>\n",
              "      <td>99.650000</td>\n",
              "    </tr>\n",
              "  </tbody>\n",
              "</table>\n",
              "</div>\n",
              "    <div class=\"colab-df-buttons\">\n",
              "\n",
              "  <div class=\"colab-df-container\">\n",
              "    <button class=\"colab-df-convert\" onclick=\"convertToInteractive('df-03e5a5a2-fb0b-4b9a-8e8e-2e04aa87f403')\"\n",
              "            title=\"Convert this dataframe to an interactive table.\"\n",
              "            style=\"display:none;\">\n",
              "\n",
              "  <svg xmlns=\"http://www.w3.org/2000/svg\" height=\"24px\" viewBox=\"0 -960 960 960\">\n",
              "    <path d=\"M120-120v-720h720v720H120Zm60-500h600v-160H180v160Zm220 220h160v-160H400v160Zm0 220h160v-160H400v160ZM180-400h160v-160H180v160Zm440 0h160v-160H620v160ZM180-180h160v-160H180v160Zm440 0h160v-160H620v160Z\"/>\n",
              "  </svg>\n",
              "    </button>\n",
              "\n",
              "  <style>\n",
              "    .colab-df-container {\n",
              "      display:flex;\n",
              "      gap: 12px;\n",
              "    }\n",
              "\n",
              "    .colab-df-convert {\n",
              "      background-color: #E8F0FE;\n",
              "      border: none;\n",
              "      border-radius: 50%;\n",
              "      cursor: pointer;\n",
              "      display: none;\n",
              "      fill: #1967D2;\n",
              "      height: 32px;\n",
              "      padding: 0 0 0 0;\n",
              "      width: 32px;\n",
              "    }\n",
              "\n",
              "    .colab-df-convert:hover {\n",
              "      background-color: #E2EBFA;\n",
              "      box-shadow: 0px 1px 2px rgba(60, 64, 67, 0.3), 0px 1px 3px 1px rgba(60, 64, 67, 0.15);\n",
              "      fill: #174EA6;\n",
              "    }\n",
              "\n",
              "    .colab-df-buttons div {\n",
              "      margin-bottom: 4px;\n",
              "    }\n",
              "\n",
              "    [theme=dark] .colab-df-convert {\n",
              "      background-color: #3B4455;\n",
              "      fill: #D2E3FC;\n",
              "    }\n",
              "\n",
              "    [theme=dark] .colab-df-convert:hover {\n",
              "      background-color: #434B5C;\n",
              "      box-shadow: 0px 1px 3px 1px rgba(0, 0, 0, 0.15);\n",
              "      filter: drop-shadow(0px 1px 2px rgba(0, 0, 0, 0.3));\n",
              "      fill: #FFFFFF;\n",
              "    }\n",
              "  </style>\n",
              "\n",
              "    <script>\n",
              "      const buttonEl =\n",
              "        document.querySelector('#df-03e5a5a2-fb0b-4b9a-8e8e-2e04aa87f403 button.colab-df-convert');\n",
              "      buttonEl.style.display =\n",
              "        google.colab.kernel.accessAllowed ? 'block' : 'none';\n",
              "\n",
              "      async function convertToInteractive(key) {\n",
              "        const element = document.querySelector('#df-03e5a5a2-fb0b-4b9a-8e8e-2e04aa87f403');\n",
              "        const dataTable =\n",
              "          await google.colab.kernel.invokeFunction('convertToInteractive',\n",
              "                                                    [key], {});\n",
              "        if (!dataTable) return;\n",
              "\n",
              "        const docLinkHtml = 'Like what you see? Visit the ' +\n",
              "          '<a target=\"_blank\" href=https://colab.research.google.com/notebooks/data_table.ipynb>data table notebook</a>'\n",
              "          + ' to learn more about interactive tables.';\n",
              "        element.innerHTML = '';\n",
              "        dataTable['output_type'] = 'display_data';\n",
              "        await google.colab.output.renderOutput(dataTable, element);\n",
              "        const docLink = document.createElement('div');\n",
              "        docLink.innerHTML = docLinkHtml;\n",
              "        element.appendChild(docLink);\n",
              "      }\n",
              "    </script>\n",
              "  </div>\n",
              "\n",
              "\n",
              "<div id=\"df-18d9a6b0-1394-4238-8b79-bca1b5ca3aa5\">\n",
              "  <button class=\"colab-df-quickchart\" onclick=\"quickchart('df-18d9a6b0-1394-4238-8b79-bca1b5ca3aa5')\"\n",
              "            title=\"Suggest charts\"\n",
              "            style=\"display:none;\">\n",
              "\n",
              "<svg xmlns=\"http://www.w3.org/2000/svg\" height=\"24px\"viewBox=\"0 0 24 24\"\n",
              "     width=\"24px\">\n",
              "    <g>\n",
              "        <path d=\"M19 3H5c-1.1 0-2 .9-2 2v14c0 1.1.9 2 2 2h14c1.1 0 2-.9 2-2V5c0-1.1-.9-2-2-2zM9 17H7v-7h2v7zm4 0h-2V7h2v10zm4 0h-2v-4h2v4z\"/>\n",
              "    </g>\n",
              "</svg>\n",
              "  </button>\n",
              "\n",
              "<style>\n",
              "  .colab-df-quickchart {\n",
              "      --bg-color: #E8F0FE;\n",
              "      --fill-color: #1967D2;\n",
              "      --hover-bg-color: #E2EBFA;\n",
              "      --hover-fill-color: #174EA6;\n",
              "      --disabled-fill-color: #AAA;\n",
              "      --disabled-bg-color: #DDD;\n",
              "  }\n",
              "\n",
              "  [theme=dark] .colab-df-quickchart {\n",
              "      --bg-color: #3B4455;\n",
              "      --fill-color: #D2E3FC;\n",
              "      --hover-bg-color: #434B5C;\n",
              "      --hover-fill-color: #FFFFFF;\n",
              "      --disabled-bg-color: #3B4455;\n",
              "      --disabled-fill-color: #666;\n",
              "  }\n",
              "\n",
              "  .colab-df-quickchart {\n",
              "    background-color: var(--bg-color);\n",
              "    border: none;\n",
              "    border-radius: 50%;\n",
              "    cursor: pointer;\n",
              "    display: none;\n",
              "    fill: var(--fill-color);\n",
              "    height: 32px;\n",
              "    padding: 0;\n",
              "    width: 32px;\n",
              "  }\n",
              "\n",
              "  .colab-df-quickchart:hover {\n",
              "    background-color: var(--hover-bg-color);\n",
              "    box-shadow: 0 1px 2px rgba(60, 64, 67, 0.3), 0 1px 3px 1px rgba(60, 64, 67, 0.15);\n",
              "    fill: var(--button-hover-fill-color);\n",
              "  }\n",
              "\n",
              "  .colab-df-quickchart-complete:disabled,\n",
              "  .colab-df-quickchart-complete:disabled:hover {\n",
              "    background-color: var(--disabled-bg-color);\n",
              "    fill: var(--disabled-fill-color);\n",
              "    box-shadow: none;\n",
              "  }\n",
              "\n",
              "  .colab-df-spinner {\n",
              "    border: 2px solid var(--fill-color);\n",
              "    border-color: transparent;\n",
              "    border-bottom-color: var(--fill-color);\n",
              "    animation:\n",
              "      spin 1s steps(1) infinite;\n",
              "  }\n",
              "\n",
              "  @keyframes spin {\n",
              "    0% {\n",
              "      border-color: transparent;\n",
              "      border-bottom-color: var(--fill-color);\n",
              "      border-left-color: var(--fill-color);\n",
              "    }\n",
              "    20% {\n",
              "      border-color: transparent;\n",
              "      border-left-color: var(--fill-color);\n",
              "      border-top-color: var(--fill-color);\n",
              "    }\n",
              "    30% {\n",
              "      border-color: transparent;\n",
              "      border-left-color: var(--fill-color);\n",
              "      border-top-color: var(--fill-color);\n",
              "      border-right-color: var(--fill-color);\n",
              "    }\n",
              "    40% {\n",
              "      border-color: transparent;\n",
              "      border-right-color: var(--fill-color);\n",
              "      border-top-color: var(--fill-color);\n",
              "    }\n",
              "    60% {\n",
              "      border-color: transparent;\n",
              "      border-right-color: var(--fill-color);\n",
              "    }\n",
              "    80% {\n",
              "      border-color: transparent;\n",
              "      border-right-color: var(--fill-color);\n",
              "      border-bottom-color: var(--fill-color);\n",
              "    }\n",
              "    90% {\n",
              "      border-color: transparent;\n",
              "      border-bottom-color: var(--fill-color);\n",
              "    }\n",
              "  }\n",
              "</style>\n",
              "\n",
              "  <script>\n",
              "    async function quickchart(key) {\n",
              "      const quickchartButtonEl =\n",
              "        document.querySelector('#' + key + ' button');\n",
              "      quickchartButtonEl.disabled = true;  // To prevent multiple clicks.\n",
              "      quickchartButtonEl.classList.add('colab-df-spinner');\n",
              "      try {\n",
              "        const charts = await google.colab.kernel.invokeFunction(\n",
              "            'suggestCharts', [key], {});\n",
              "      } catch (error) {\n",
              "        console.error('Error during call to suggestCharts:', error);\n",
              "      }\n",
              "      quickchartButtonEl.classList.remove('colab-df-spinner');\n",
              "      quickchartButtonEl.classList.add('colab-df-quickchart-complete');\n",
              "    }\n",
              "    (() => {\n",
              "      let quickchartButtonEl =\n",
              "        document.querySelector('#df-18d9a6b0-1394-4238-8b79-bca1b5ca3aa5 button');\n",
              "      quickchartButtonEl.style.display =\n",
              "        google.colab.kernel.accessAllowed ? 'block' : 'none';\n",
              "    })();\n",
              "  </script>\n",
              "</div>\n",
              "\n",
              "    </div>\n",
              "  </div>\n"
            ],
            "application/vnd.google.colaboratory.intrinsic+json": {
              "type": "dataframe",
              "summary": "{\n  \"name\": \"fast_food\",\n  \"rows\": 8,\n  \"fields\": [\n    {\n      \"column\": \"MarketID\",\n      \"properties\": {\n        \"dtype\": \"number\",\n        \"std\": 191.92127039894453,\n        \"min\": 1.0,\n        \"max\": 548.0,\n        \"num_unique_values\": 8,\n        \"samples\": [\n          5.7153284671532845,\n          6.0,\n          548.0\n        ],\n        \"semantic_type\": \"\",\n        \"description\": \"\"\n      }\n    },\n    {\n      \"column\": \"LocationID\",\n      \"properties\": {\n        \"dtype\": \"number\",\n        \"std\": 288.5804970099677,\n        \"min\": 1.0,\n        \"max\": 920.0,\n        \"num_unique_values\": 8,\n        \"samples\": [\n          479.6569343065693,\n          504.0,\n          548.0\n        ],\n        \"semantic_type\": \"\",\n        \"description\": \"\"\n      }\n    },\n    {\n      \"column\": \"AgeOfStore\",\n      \"properties\": {\n        \"dtype\": \"number\",\n        \"std\": 190.53099502019145,\n        \"min\": 1.0,\n        \"max\": 548.0,\n        \"num_unique_values\": 8,\n        \"samples\": [\n          8.503649635036496,\n          7.0,\n          548.0\n        ],\n        \"semantic_type\": \"\",\n        \"description\": \"\"\n      }\n    },\n    {\n      \"column\": \"Promotion\",\n      \"properties\": {\n        \"dtype\": \"number\",\n        \"std\": 193.10067585457892,\n        \"min\": 0.8107288421051005,\n        \"max\": 548.0,\n        \"num_unique_values\": 6,\n        \"samples\": [\n          548.0,\n          2.0291970802919708,\n          3.0\n        ],\n        \"semantic_type\": \"\",\n        \"description\": \"\"\n      }\n    },\n    {\n      \"column\": \"week\",\n      \"properties\": {\n        \"dtype\": \"number\",\n        \"std\": 192.93581045414467,\n        \"min\": 1.0,\n        \"max\": 548.0,\n        \"num_unique_values\": 7,\n        \"samples\": [\n          548.0,\n          2.5,\n          3.25\n        ],\n        \"semantic_type\": \"\",\n        \"description\": \"\"\n      }\n    },\n    {\n      \"column\": \"SalesInThousands\",\n      \"properties\": {\n        \"dtype\": \"number\",\n        \"std\": 178.48467784527566,\n        \"min\": 16.755215821664237,\n        \"max\": 548.0,\n        \"num_unique_values\": 8,\n        \"samples\": [\n          53.46620437956205,\n          50.2,\n          548.0\n        ],\n        \"semantic_type\": \"\",\n        \"description\": \"\"\n      }\n    }\n  ]\n}"
            }
          },
          "metadata": {},
          "execution_count": 1
        }
      ]
    },
    {
      "cell_type": "markdown",
      "source": [
        "For the analysis of results of **A/B Testing**, we assume that the test was conducted on fully randomised data.\n",
        "\n",
        "This means that for this exercise, the three different promotions were randomly assigned across stores or market segments, without systematically accounting for all combinations of market size, store age, and week."
      ],
      "metadata": {
        "id": "XXk8sduIvlTH"
      }
    },
    {
      "cell_type": "code",
      "source": [
        "# separate the data set into the three different promotions\n",
        "# this is necessary for further statistical validation\n",
        "promotion1 = fast_food[fast_food[\"Promotion\"]==1]\n",
        "promotion2 = fast_food[fast_food[\"Promotion\"]==2]\n",
        "promotion3 = fast_food[fast_food[\"Promotion\"]==3]\n",
        "\n",
        "promotion1.shape\n",
        "promotion2.shape\n",
        "promotion3.shape\n",
        "\n"
      ],
      "metadata": {
        "id": "MZj_oHVLveKP",
        "colab": {
          "base_uri": "https://localhost:8080/"
        },
        "outputId": "1568bd91-88a2-4ce7-ff09-b6ac9a8ac062"
      },
      "execution_count": null,
      "outputs": [
        {
          "output_type": "execute_result",
          "data": {
            "text/plain": [
              "(188, 7)"
            ]
          },
          "metadata": {},
          "execution_count": 9
        }
      ]
    },
    {
      "cell_type": "markdown",
      "source": [
        "**Shapiro-Wilk** test is a hypothesis test that evaluates whether a data set is normally distributed. It evaluates data from a sample with the null hypothesis that the data set is normally distributed. A large p-value indicates the data set is normally distributed, a low p-value indicates that it isn’t normally distributed."
      ],
      "metadata": {
        "id": "9q_1CxOL9dH0"
      }
    },
    {
      "cell_type": "code",
      "source": [
        "from scipy import stats\n",
        "\n",
        "for group in list(fast_food[\"Promotion\"].unique()):\n",
        "\n",
        "    # call shapiro from the stats module\n",
        "    pvalue = stats.shapiro(fast_food.loc[fast_food[\"Promotion\"] == group, \"SalesInThousands\"])[1]\n",
        "\n",
        "    print(group, 'p-value: %.8f' % pvalue)\n",
        "\n"
      ],
      "metadata": {
        "id": "mzN9H4Ls9ZXv",
        "colab": {
          "base_uri": "https://localhost:8080/"
        },
        "outputId": "1ce647e7-951e-4481-eaaa-93c6dd1d323d"
      },
      "execution_count": null,
      "outputs": [
        {
          "output_type": "stream",
          "name": "stdout",
          "text": [
            "3 p-value: 0.00000001\n",
            "2 p-value: 0.00000001\n",
            "1 p-value: 0.00000002\n"
          ]
        }
      ]
    },
    {
      "cell_type": "markdown",
      "source": [
        "**Kruskal-Wallis** test (*Kruskal and Wallis*, 1952) is a nonparametric method for testing whether samples are originated from the same distribution. This test is used to compare the sales across all three promotions to see if there are significant differences between them."
      ],
      "metadata": {
        "id": "8a4-4mZa94r7"
      }
    },
    {
      "cell_type": "code",
      "source": [
        "from scipy.stats import kruskal\n",
        "\n",
        "s,p = kruskal(fast_food.loc[fast_food[\"Promotion\"] == 1, \"SalesInThousands\"],\n",
        "        fast_food.loc[fast_food[\"Promotion\"] == 2, \"SalesInThousands\"],\n",
        "        fast_food.loc[fast_food[\"Promotion\"] == 3, \"SalesInThousands\"])\n",
        "\n",
        "# Kruskal-Wallis H statistic indicates how much the sales values differ across the three promotions\n",
        "# p-value assesses whether the differences are statistically significant\n",
        "print(f\"\\nStatistic: {s:.3f}\\np-Value: {p:.12f}\\n\")\n",
        "\n"
      ],
      "metadata": {
        "id": "cQwETEHS9qUk",
        "colab": {
          "base_uri": "https://localhost:8080/"
        },
        "outputId": "94becc04-a865-41c3-a276-5b9648ad74ed"
      },
      "execution_count": null,
      "outputs": [
        {
          "output_type": "stream",
          "name": "stdout",
          "text": [
            "\n",
            "Statistic: 53.295\n",
            "p-Value: 0.000000000003\n",
            "\n"
          ]
        }
      ]
    },
    {
      "cell_type": "markdown",
      "source": [
        "If the *Kruskal-Wallis* test shows differences, the **Tukey Honest Significant Difference (HSD)** test is used to find out exactly which promotions differ.\n",
        "\n",
        "The **MultiComparison** class helps in comparing the promotions, and the **tukeyhsd** function checks for significant differences between each pair of promotions."
      ],
      "metadata": {
        "id": "pkFaE6Ou-NVN"
      }
    },
    {
      "cell_type": "code",
      "source": [
        "from statsmodels.stats.multicomp import MultiComparison\n",
        "\n",
        "comparison = MultiComparison(fast_food['SalesInThousands'], fast_food['Promotion'])\n",
        "tukey = comparison.tukeyhsd(0.05) # 5% significanc level means we want a 95% confidence level for the test\n",
        "\n",
        "print(tukey.summary())\n",
        "\n"
      ],
      "metadata": {
        "id": "kMXmofd1-iUl",
        "colab": {
          "base_uri": "https://localhost:8080/"
        },
        "outputId": "c1bb368d-e8d9-4291-f7df-212b45b014cb"
      },
      "execution_count": null,
      "outputs": [
        {
          "output_type": "stream",
          "name": "stdout",
          "text": [
            " Multiple Comparison of Means - Tukey HSD, FWER=0.05 \n",
            "=====================================================\n",
            "group1 group2 meandiff p-adj   lower    upper  reject\n",
            "-----------------------------------------------------\n",
            "     1      2 -10.7696    0.0 -14.7738 -6.7654   True\n",
            "     1      3  -2.7345 0.2444  -6.7388  1.2697  False\n",
            "     2      3   8.0351    0.0   4.1208 11.9493   True\n",
            "-----------------------------------------------------\n"
          ]
        }
      ]
    },
    {
      "cell_type": "markdown",
      "source": [
        "Based on the results of the Tukey HSD test, it can be concluded that Promotion 2 shows a significant difference in performance compared to both Promotion 1 and Promotion 3 in terms of sales.\n",
        "\n",
        "The analysis indicates that Promotion 2 has notably lower average sales compared to the other two promotions, with Promotion 1 performing significantly better than Promotion 2 and Promotion 3 also outperforming Promotion 2."
      ],
      "metadata": {
        "id": "6zz7DoGOvAb7"
      }
    },
    {
      "cell_type": "code",
      "source": [
        "import matplotlib.pyplot as plt\n",
        "\n",
        "#plt.boxplot(promotion1['SalesInThousands'])\n",
        "#plt.show()\n",
        "sales_data = [promotion1['SalesInThousands'], promotion2['SalesInThousands'], promotion3['SalesInThousands']]\n",
        "\n",
        "# Create a figure and axis objects\n",
        "fig, ax = plt.subplots()\n",
        "ax.boxplot(sales_data, labels=[\"Promotion 1\", \"Promotion 2\", \"Promotion 3\"])\n",
        "ax.set_title('Sales Distribution by Promotion')\n",
        "ax.set_ylabel('Sales in Thousands')\n",
        "\n",
        "# Show the plot\n",
        "plt.show()\n",
        "\n"
      ],
      "metadata": {
        "id": "NCRzIzlZnqYq",
        "colab": {
          "base_uri": "https://localhost:8080/",
          "height": 452
        },
        "outputId": "899dfe64-30ce-4a74-81a0-e1261017c473"
      },
      "execution_count": null,
      "outputs": [
        {
          "output_type": "display_data",
          "data": {
            "text/plain": [
              "<Figure size 640x480 with 1 Axes>"
            ],
            "image/png": "[encoded data removed]"
          },
          "metadata": {}
        }
      ]
    },
    {
      "cell_type": "markdown",
      "source": [
        "**The box plot comparing the three promotions visually confirms the differences in sales performance. Both the visual representation and the statistical analysis are consistent in showing that Promotion 2 has significantly lower average sales compared to Promotions 1 and 3.**\n",
        "\n",
        "The **Shapiro-Wilk** test checks whether the sales data for each promotion follows a normal distribution.\n",
        "* If the p-value from the Shapiro-Wilk test is less than 0.05 for a promotion group, it suggests that the data for that group might not be normally distributed. This is important because many statistical tests, like ANOVA, assume normality.\n",
        "\n",
        "The **Kruskal-Wallis** test compares sales across the three promotions, and a significant p-value would indicate that the sales performance differs across the promotions.\n",
        "* If the p-value from the Kruskal-Wallis test is less than 0.05, it indicates that there are significant differences in the medians of the \"SalesInThousands\" distribution across the three promotion groups. This means that the promotions have a different impact on sales.\n",
        "\n",
        "After finding a significant result in Kruskal-Wallis, the **Tukey Honest Significant Difference (HSD)** test is used for post-hoc comparisons. It helps identify which specific promotion groups differ from each other, providing a more detailed view of where the sales differences lie.\n",
        "* In Tukey HSD test, a p-adjusted value less than a chosen significance level (commonly 0.05) suggests that the observed effect is statistically significant after accounting for multiple comparisons.\n",
        "\n",
        "\n",
        "**IN SUMMARY:**\n",
        "The **Shapiro-Wilk** test assesses whether each promotion's sales data is normally distributed. The **Kruskal-Wallis** test detects if there are significant differences in the overall sales performance across the three promotions. The **Tukey HSD** test pinpoints which specific promotion pairs differ significantly in terms of sales performance."
      ],
      "metadata": {
        "id": "xaVPEfF1_CZt"
      }
    }
  ]
}